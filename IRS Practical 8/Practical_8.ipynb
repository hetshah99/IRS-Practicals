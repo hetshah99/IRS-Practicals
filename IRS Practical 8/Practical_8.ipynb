{
  "nbformat": 4,
  "nbformat_minor": 0,
  "metadata": {
    "colab": {
      "name": "Practical_3.ipynb",
      "provenance": []
    },
    "kernelspec": {
      "name": "python3",
      "display_name": "Python 3"
    },
    "accelerator": "GPU"
  },
  "cells": [
    {
      "cell_type": "code",
      "metadata": {
        "id": "lWlf9FA4CS6K"
      },
      "source": [
        "import numpy as np\n",
        "import matplotlib.pyplot as plt\n",
        "import tensorflow as tf\n",
        "from sklearn.model_selection import train_test_split\n",
        "from keras import Sequential\n",
        "from keras.engine import Model\n",
        "from keras.datasets import cifar10\n",
        "from keras.layers import Flatten,Dense,BatchNormalization,Activation,Dropout, GlobalAveragePooling2D\n",
        "from keras.utils import to_categorical"
      ],
      "execution_count": null,
      "outputs": []
    },
    {
      "cell_type": "code",
      "metadata": {
        "id": "AXod7Xhitz9E"
      },
      "source": [
        "(X_train, y_train), (X_test, y_test) = cifar10.load_data()"
      ],
      "execution_count": null,
      "outputs": []
    },
    {
      "cell_type": "code",
      "metadata": {
        "id": "WqZH4--gt2Qo",
        "outputId": "b9321bf0-7f7b-4f9b-ce88-c0b97ab04713",
        "colab": {
          "base_uri": "https://localhost:8080/",
          "height": 118
        }
      },
      "source": [
        "X_train = X_train/255.0\n",
        "X_test = X_test/255.0\n",
        "\n",
        "print(\"Train\")\n",
        "print(X_train.shape)\n",
        "print(y_train.shape)\n",
        "print(\"Test\")\n",
        "print(X_test.shape)\n",
        "print(y_test.shape)"
      ],
      "execution_count": null,
      "outputs": [
        {
          "output_type": "stream",
          "text": [
            "Train\n",
            "(50000, 32, 32, 3)\n",
            "(50000, 1)\n",
            "Test\n",
            "(10000, 32, 32, 3)\n",
            "(10000, 1)\n"
          ],
          "name": "stdout"
        }
      ]
    },
    {
      "cell_type": "code",
      "metadata": {
        "id": "QAlsCGWPt6h6",
        "outputId": "adb7feb1-c774-41f0-cfe4-f18b6ae784fa",
        "colab": {
          "base_uri": "https://localhost:8080/",
          "height": 386
        }
      },
      "source": [
        "base_model = tf.keras.applications.ResNet50V2(input_shape=(32, 32, 3), weights='imagenet', include_top=False)\n",
        "  \n",
        "model = tf.keras.Sequential([\n",
        "    base_model,\n",
        "    tf.keras.layers.GlobalAveragePooling2D(),\n",
        "    tf.keras.layers.Dropout(0.4),\n",
        "    tf.keras.layers.Dense(1024),\n",
        "    tf.keras.layers.ReLU(),\n",
        "    tf.keras.layers.Dropout(0.5),\n",
        "    tf.keras.layers.Dense(10, activation='softmax')\n",
        "])\n",
        "      \n",
        "model.compile(\n",
        "    optimizer='adam',\n",
        "    loss = 'sparse_categorical_crossentropy',\n",
        "    metrics=['sparse_categorical_accuracy']\n",
        ")\n",
        "model.summary()"
      ],
      "execution_count": null,
      "outputs": [
        {
          "output_type": "stream",
          "text": [
            "Model: \"sequential_8\"\n",
            "_________________________________________________________________\n",
            "Layer (type)                 Output Shape              Param #   \n",
            "=================================================================\n",
            "resnet50v2 (Functional)      (None, 1, 1, 2048)        23564800  \n",
            "_________________________________________________________________\n",
            "global_average_pooling2d_8 ( (None, 2048)              0         \n",
            "_________________________________________________________________\n",
            "dropout_18 (Dropout)         (None, 2048)              0         \n",
            "_________________________________________________________________\n",
            "dense_16 (Dense)             (None, 1024)              2098176   \n",
            "_________________________________________________________________\n",
            "re_lu_8 (ReLU)               (None, 1024)              0         \n",
            "_________________________________________________________________\n",
            "dropout_19 (Dropout)         (None, 1024)              0         \n",
            "_________________________________________________________________\n",
            "dense_17 (Dense)             (None, 10)                10250     \n",
            "=================================================================\n",
            "Total params: 25,673,226\n",
            "Trainable params: 25,627,786\n",
            "Non-trainable params: 45,440\n",
            "_________________________________________________________________\n"
          ],
          "name": "stdout"
        }
      ]
    },
    {
      "cell_type": "code",
      "metadata": {
        "id": "1MCMyl6it9I5",
        "outputId": "44958169-f0b4-4850-9e46-23a1cd3bbb53",
        "colab": {
          "base_uri": "https://localhost:8080/",
          "height": 370
        }
      },
      "source": [
        "model.fit(X_train, y_train, batch_size=512, epochs=10, validation_split=0.1)"
      ],
      "execution_count": null,
      "outputs": [
        {
          "output_type": "stream",
          "text": [
            "Epoch 1/10\n",
            "88/88 [==============================] - 10s 116ms/step - loss: 2.0257 - sparse_categorical_accuracy: 0.2953 - val_loss: 5.5692 - val_sparse_categorical_accuracy: 0.2802\n",
            "Epoch 2/10\n",
            "88/88 [==============================] - 9s 107ms/step - loss: 1.2969 - sparse_categorical_accuracy: 0.5568 - val_loss: 12.5271 - val_sparse_categorical_accuracy: 0.5652\n",
            "Epoch 3/10\n",
            "88/88 [==============================] - 9s 107ms/step - loss: 0.9605 - sparse_categorical_accuracy: 0.6803 - val_loss: 1.5153 - val_sparse_categorical_accuracy: 0.6600\n",
            "Epoch 4/10\n",
            "88/88 [==============================] - 9s 107ms/step - loss: 0.7402 - sparse_categorical_accuracy: 0.7589 - val_loss: 0.9737 - val_sparse_categorical_accuracy: 0.7076\n",
            "Epoch 5/10\n",
            "88/88 [==============================] - 9s 107ms/step - loss: 0.6127 - sparse_categorical_accuracy: 0.8018 - val_loss: 1.0986 - val_sparse_categorical_accuracy: 0.7282\n",
            "Epoch 6/10\n",
            "88/88 [==============================] - 9s 107ms/step - loss: 0.5174 - sparse_categorical_accuracy: 0.8353 - val_loss: 1.2060 - val_sparse_categorical_accuracy: 0.7222\n",
            "Epoch 7/10\n",
            "88/88 [==============================] - 9s 107ms/step - loss: 0.4299 - sparse_categorical_accuracy: 0.8646 - val_loss: 0.8912 - val_sparse_categorical_accuracy: 0.7554\n",
            "Epoch 8/10\n",
            "88/88 [==============================] - 9s 107ms/step - loss: 0.3666 - sparse_categorical_accuracy: 0.8859 - val_loss: 0.8991 - val_sparse_categorical_accuracy: 0.7666\n",
            "Epoch 9/10\n",
            "88/88 [==============================] - 9s 108ms/step - loss: 0.3231 - sparse_categorical_accuracy: 0.8993 - val_loss: 0.8331 - val_sparse_categorical_accuracy: 0.7694\n",
            "Epoch 10/10\n",
            "88/88 [==============================] - 9s 107ms/step - loss: 0.2801 - sparse_categorical_accuracy: 0.9150 - val_loss: 0.8587 - val_sparse_categorical_accuracy: 0.7402\n"
          ],
          "name": "stdout"
        },
        {
          "output_type": "execute_result",
          "data": {
            "text/plain": [
              "<tensorflow.python.keras.callbacks.History at 0x7fdeaf546e10>"
            ]
          },
          "metadata": {
            "tags": []
          },
          "execution_count": 41
        }
      ]
    },
    {
      "cell_type": "code",
      "metadata": {
        "id": "nTzFmd7WuAIy",
        "outputId": "140e4c19-e65f-49a1-a843-e44fd64cd55e",
        "colab": {
          "base_uri": "https://localhost:8080/",
          "height": 50
        }
      },
      "source": [
        "model.evaluate(X_test, y_test, batch_size=512)"
      ],
      "execution_count": null,
      "outputs": [
        {
          "output_type": "stream",
          "text": [
            "20/20 [==============================] - 1s 31ms/step - loss: 0.9140 - sparse_categorical_accuracy: 0.7358\n"
          ],
          "name": "stdout"
        },
        {
          "output_type": "execute_result",
          "data": {
            "text/plain": [
              "[0.9140002727508545, 0.73580002784729]"
            ]
          },
          "metadata": {
            "tags": []
          },
          "execution_count": 42
        }
      ]
    }
  ]
}